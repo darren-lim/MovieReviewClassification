{
  "nbformat": 4,
  "nbformat_minor": 0,
  "metadata": {
    "colab": {
      "name": "MovieReview.ipynb",
      "provenance": [],
      "collapsed_sections": [],
      "toc_visible": true
    },
    "kernelspec": {
      "name": "python3",
      "display_name": "Python 3"
    },
    "accelerator": "GPU"
  },
  "cells": [
    {
      "cell_type": "markdown",
      "metadata": {
        "id": "kx-cd90mw_5b",
        "colab_type": "text"
      },
      "source": [
        "# Movie Review Classification\n",
        "### CS 175\n",
        "\n",
        "##### Darren Lim\n",
        "##### Justin Lonh\n",
        "##### Jerson Villanueva\n"
      ]
    },
    {
      "cell_type": "markdown",
      "metadata": {
        "id": "uhLJMDLyneeH",
        "colab_type": "text"
      },
      "source": [
        "## IMPORT\n",
        "\n",
        "Import the necessary libraries and modules"
      ]
    },
    {
      "cell_type": "code",
      "metadata": {
        "id": "ZFJYj7aZyFZx",
        "colab_type": "code",
        "outputId": "1d81bec3-3e87-4d21-d4cc-79566b115a3c",
        "colab": {
          "base_uri": "https://localhost:8080/",
          "height": 380
        }
      },
      "source": [
        "pip install tensorflow_datasets"
      ],
      "execution_count": 0,
      "outputs": [
        {
          "output_type": "stream",
          "text": [
            "Requirement already satisfied: tensorflow_datasets in /usr/local/lib/python3.6/dist-packages (2.0.0)\n",
            "Requirement already satisfied: requests>=2.19.0 in /tensorflow-2.1.0/python3.6 (from tensorflow_datasets) (2.23.0)\n",
            "Requirement already satisfied: tqdm in /usr/local/lib/python3.6/dist-packages (from tensorflow_datasets) (4.28.1)\n",
            "Requirement already satisfied: absl-py in /tensorflow-2.1.0/python3.6 (from tensorflow_datasets) (0.9.0)\n",
            "Requirement already satisfied: protobuf>=3.6.1 in /tensorflow-2.1.0/python3.6 (from tensorflow_datasets) (3.11.3)\n",
            "Requirement already satisfied: promise in /usr/local/lib/python3.6/dist-packages (from tensorflow_datasets) (2.3)\n",
            "Requirement already satisfied: future in /usr/local/lib/python3.6/dist-packages (from tensorflow_datasets) (0.16.0)\n",
            "Requirement already satisfied: dill in /usr/local/lib/python3.6/dist-packages (from tensorflow_datasets) (0.3.1.1)\n",
            "Requirement already satisfied: wrapt in /tensorflow-2.1.0/python3.6 (from tensorflow_datasets) (1.12.0)\n",
            "Requirement already satisfied: six in /tensorflow-2.1.0/python3.6 (from tensorflow_datasets) (1.14.0)\n",
            "Requirement already satisfied: termcolor in /tensorflow-2.1.0/python3.6 (from tensorflow_datasets) (1.1.0)\n",
            "Requirement already satisfied: numpy in /tensorflow-2.1.0/python3.6 (from tensorflow_datasets) (1.18.1)\n",
            "Requirement already satisfied: attrs>=18.1.0 in /usr/local/lib/python3.6/dist-packages (from tensorflow_datasets) (19.3.0)\n",
            "Requirement already satisfied: tensorflow-metadata in /usr/local/lib/python3.6/dist-packages (from tensorflow_datasets) (0.21.1)\n",
            "Requirement already satisfied: urllib3!=1.25.0,!=1.25.1,<1.26,>=1.21.1 in /tensorflow-2.1.0/python3.6 (from requests>=2.19.0->tensorflow_datasets) (1.25.8)\n",
            "Requirement already satisfied: chardet<4,>=3.0.2 in /tensorflow-2.1.0/python3.6 (from requests>=2.19.0->tensorflow_datasets) (3.0.4)\n",
            "Requirement already satisfied: idna<3,>=2.5 in /tensorflow-2.1.0/python3.6 (from requests>=2.19.0->tensorflow_datasets) (2.9)\n",
            "Requirement already satisfied: certifi>=2017.4.17 in /tensorflow-2.1.0/python3.6 (from requests>=2.19.0->tensorflow_datasets) (2019.11.28)\n",
            "Requirement already satisfied: setuptools in /tensorflow-2.1.0/python3.6 (from protobuf>=3.6.1->tensorflow_datasets) (45.2.0)\n",
            "Requirement already satisfied: googleapis-common-protos in /usr/local/lib/python3.6/dist-packages (from tensorflow-metadata->tensorflow_datasets) (1.51.0)\n"
          ],
          "name": "stdout"
        }
      ]
    },
    {
      "cell_type": "code",
      "metadata": {
        "id": "fnV32QJPwyv3",
        "colab_type": "code",
        "outputId": "63320d4f-9ca9-40b8-ce6f-1f11ca3c52d6",
        "colab": {
          "base_uri": "https://localhost:8080/",
          "height": 53
        }
      },
      "source": [
        "from string import punctuation\n",
        "from os import listdir\n",
        "from collections import Counter\n",
        "import nltk\n",
        "nltk.download('stopwords')\n",
        "from nltk.corpus import stopwords\n",
        "from nltk.stem.porter import PorterStemmer\n",
        "from numpy import array\n",
        "from numpy import zeros\n",
        "from numpy import asarray\n",
        "import gensim \n",
        "from gensim.models import Word2Vec\n",
        "\n",
        "%tensorflow_version 2.x\n",
        "import tensorflow as tf\n",
        "import tensorflow_datasets as tfds\n",
        "import tensorflow_addons as tfa\n",
        "\n",
        "import numpy as np\n",
        "import matplotlib\n",
        "import matplotlib.pyplot as plt\n",
        "\n",
        "\n",
        "#from tensorflow.keras import backend\n",
        "\n",
        "from keras.preprocessing.text import Tokenizer\n",
        "from keras.preprocessing.sequence import pad_sequences\n",
        "from keras.preprocessing.text import one_hot\n",
        "from tensorflow.keras.models import Sequential as Sequential\n",
        "from tensorflow.keras.layers import Dense as Dense\n",
        "from tensorflow.keras.layers import Dropout as Dropout\n",
        "from tensorflow.keras.layers import Flatten as Flatten\n",
        "from tensorflow.keras.layers import Embedding as Embedding\n",
        "from tensorflow.keras.layers import Conv1D as Conv1D\n",
        "from tensorflow.keras.layers import MaxPooling1D as MaxPooling1D\n",
        "#from tensorflow.layers.convolutional import MaxPooling1D\n",
        "\n",
        "from tensorflow.keras.models import load_model\n"
      ],
      "execution_count": 0,
      "outputs": [
        {
          "output_type": "stream",
          "text": [
            "[nltk_data] Downloading package stopwords to /root/nltk_data...\n",
            "[nltk_data]   Package stopwords is already up-to-date!\n"
          ],
          "name": "stdout"
        }
      ]
    },
    {
      "cell_type": "markdown",
      "metadata": {
        "id": "r67AZXJZZRWT",
        "colab_type": "text"
      },
      "source": [
        "We stored our Kaggle dataset into our google drive, so we mount our drive first to have access to the data."
      ]
    },
    {
      "cell_type": "markdown",
      "metadata": {
        "id": "FDy7TaHrZ1VS",
        "colab_type": "text"
      },
      "source": [
        "## LOAD DATASETS"
      ]
    },
    {
      "cell_type": "code",
      "metadata": {
        "id": "biZOiEvaywL6",
        "colab_type": "code",
        "outputId": "c41ea738-f476-49bf-c76a-da78b479f971",
        "colab": {
          "base_uri": "https://localhost:8080/",
          "height": 35
        }
      },
      "source": [
        "# mount google drive to get movie review data (uploaded to google drive)\n",
        "from google.colab import drive\n",
        "drive.mount('/content/drive')"
      ],
      "execution_count": 0,
      "outputs": [
        {
          "output_type": "stream",
          "text": [
            "Drive already mounted at /content/drive; to attempt to forcibly remount, call drive.mount(\"/content/drive\", force_remount=True).\n"
          ],
          "name": "stdout"
        }
      ]
    },
    {
      "cell_type": "code",
      "metadata": {
        "id": "WtWagLOoy0Qb",
        "colab_type": "code",
        "colab": {}
      },
      "source": [
        "directory = '/content/drive/My Drive/CS175/movie-review/movie_reviews/movie_reviews/neg'\n",
        "directory2 = '/content/drive/My Drive/CS175/imdb/train/pos'\n",
        "\n",
        "# example how to use imdb dataset\n",
        "# this code gets the training split from imdb dataset, shuffles it, splits into batches of 32 reviews\n",
        "# then for each batch, zips together label values and text values, and prints them\n",
        "# for vocab creation or if you don't need labels, can just iterate through bat['text'].numpy() to get text\n",
        "\n",
        "imdb_train = tfds.load(name=\"imdb_reviews\", split=\"train\")\n",
        "imdb_train = imdb_train.shuffle(1024).prefetch(tf.data.experimental.AUTOTUNE)\n",
        "\n",
        "vocab = None\n",
        "imdbVocab = None"
      ],
      "execution_count": 0,
      "outputs": []
    },
    {
      "cell_type": "markdown",
      "metadata": {
        "id": "kHIieBl4bfNA",
        "colab_type": "text"
      },
      "source": [
        "## TOKENIZE VOCAB WORDS"
      ]
    },
    {
      "cell_type": "markdown",
      "metadata": {
        "id": "GduIzAyxnrfj",
        "colab_type": "text"
      },
      "source": [
        "The following code blocks will clean and create a list of vocabulary from the review text files."
      ]
    },
    {
      "cell_type": "code",
      "metadata": {
        "id": "lRL_D5WEiJeT",
        "colab_type": "code",
        "colab": {}
      },
      "source": [
        "# Following code blocks are from https://machinelearningmastery.com/develop-word-embedding-model-predicting-movie-review-sentiment/\n",
        "# on cleaning and recovering vocabulary from the txt files\n",
        "\n",
        "def ReadFile(filename):\n",
        "  file = None\n",
        "  with open(filename) as f:\n",
        "    file = f.read()\n",
        "  return file\n",
        "\n",
        "def clean_file(doc):\n",
        "  # split into tokens by white space\n",
        "  tokens = doc.split()\n",
        "  # remove punctuation from each token\\\n",
        "  table = str.maketrans('', '', punctuation)\n",
        "  tokens = [w.translate(table) for w in tokens]\n",
        "  # remove remaining tokens that are not alphabetic\n",
        "  tokens = [word for word in tokens if word.isalpha()]\n",
        "  # filter out stop words\n",
        "  stop_words = set(stopwords.words('english'))\n",
        "  tokens = [w for w in tokens if not w in stop_words]\n",
        "  # filter out short tokens\n",
        "  tokens = [word for word in tokens if len(word) > 1 and word != 'br']\n",
        "  stemmer = PorterStemmer()\n",
        "  tokens = [stemmer.stem(word) for word in tokens]\n",
        "  return tokens\n",
        "\n",
        "# load doc and add to vocab\n",
        "def add_doc_to_vocab(filename, vocab):\n",
        "\t# load doc\n",
        "\tdoc = ReadFile(filename)\n",
        "\t# clean doc\n",
        "\ttokens = clean_file(doc)\n",
        "\t# update counts\n",
        "\tvocab.update(tokens)\n",
        "\n",
        "# load all docs in a directory\n",
        "def process_docs(directory, vocab, is_train):\n",
        "\t# walk through all files in the folder\n",
        "\tfor filename in listdir(directory):\n",
        "\t\t# skip any reviews in the test set\n",
        "\t\tif is_train and filename.startswith('cv9'):\n",
        "\t\t\tcontinue\n",
        "\t\tif not is_train and not filename.startswith('cv9'):\n",
        "\t\t\tcontinue\n",
        "\t\t# create the full path of the file to open\n",
        "\t\tpath = directory + '/' + filename\n",
        "\t\t# add doc to vocab\n",
        "\t\tadd_doc_to_vocab(path, vocab)"
      ],
      "execution_count": 0,
      "outputs": []
    },
    {
      "cell_type": "code",
      "metadata": {
        "id": "Hfwj7UoLkliQ",
        "colab_type": "code",
        "outputId": "85542f41-0998-4ee2-fbd5-05ba1f173715",
        "colab": {
          "base_uri": "https://localhost:8080/",
          "height": 146
        }
      },
      "source": [
        "'''\n",
        "This code block grabs all of the vocab words in the neg and pos text files\n",
        "and cleans out the words that occur the least.\n",
        "Bag of words\n",
        "'''\n",
        "# define vocab\n",
        "vocab = Counter()\n",
        "imdbVocab = Counter()\n",
        "# add all docs to vocab\n",
        "neg_directory = '/content/drive/My Drive/CS175/movie-review/movie_reviews/movie_reviews/neg'\n",
        "pos_directory = '/content/drive/My Drive/CS175/movie-review/movie_reviews/movie_reviews/pos'\n",
        "process_docs(neg_directory, vocab, True)\n",
        "process_docs(pos_directory, vocab, True)\n",
        "\n",
        "# adding imdb reviews to vocab\n",
        "for review in imdb_train:\n",
        "  imdbVocab.update(clean_file(review['text'].numpy().decode('utf-8')))\n",
        "\n",
        "print(\"total vocab kaggle: \", len(vocab))\n",
        "print(\"total vocab imdb: \", len(imdbVocab))\n",
        "\n",
        "# keep tokens with a min occurrence\n",
        "min_occurane = 2\n",
        "tokens = [k for k,c in vocab.items() if c >= min_occurane]\n",
        "imdbTokens = [k for k,c in imdbVocab.items() if c >= min_occurane]\n",
        "\n",
        "print(\"total vocab Kaggle after removing min occurance: \", len(tokens))\n",
        "print(vocab.most_common(50))\n",
        "print(\"total vocab IMDB after removing min occurance: \",len(imdbTokens))\n",
        "print(imdbVocab.most_common(50))"
      ],
      "execution_count": 0,
      "outputs": [
        {
          "output_type": "stream",
          "text": [
            "total vocab kaggle:  29581\n",
            "total vocab imdb:  89547\n",
            "total vocab Kaggle after removing min occurance:  17576\n",
            "[('film', 9984), ('movi', 6064), ('one', 5156), ('like', 3597), ('charact', 3439), ('get', 2870), ('make', 2812), ('time', 2608), ('scene', 2376), ('even', 2306), ('play', 2155), ('good', 2141), ('stori', 2092), ('see', 1977), ('would', 1844), ('much', 1825), ('also', 1757), ('go', 1742), ('way', 1683), ('seem', 1662), ('two', 1643), ('end', 1635), ('take', 1625), ('look', 1617), ('first', 1589), ('come', 1588), ('well', 1572), ('work', 1522), ('thing', 1481), ('realli', 1407), ('know', 1402), ('year', 1390), ('plot', 1376), ('perform', 1363), ('littl', 1354), ('life', 1345), ('peopl', 1304), ('love', 1272), ('bad', 1256), ('could', 1248), ('man', 1212), ('show', 1205), ('never', 1201), ('tri', 1192), ('best', 1182), ('new', 1140), ('give', 1137), ('mani', 1130), ('star', 1121), ('doesnt', 1118)]\n",
            "total vocab IMDB after removing min occurance:  39515\n",
            "[('movi', 49597), ('film', 46299), ('the', 45829), ('one', 26668), ('like', 22139), ('time', 15074), ('thi', 15002), ('good', 14760), ('make', 14517), ('get', 14039), ('see', 13823), ('charact', 13805), ('watch', 13629), ('even', 12752), ('stori', 12650), ('would', 12135), ('It', 12074), ('realli', 11664), ('scene', 10233), ('well', 9742), ('look', 9695), ('show', 9627), ('much', 9584), ('peopl', 9224), ('end', 9184), ('also', 9073), ('great', 8998), ('bad', 8952), ('first', 8858), ('think', 8802), ('love', 8723), ('go', 8702), ('play', 8539), ('dont', 8474), ('way', 8457), ('act', 8436), ('there', 8055), ('thing', 8024), ('made', 7990), ('could', 7713), ('say', 7369), ('know', 7367), ('but', 7329), ('seem', 7190), ('and', 7053), ('it', 6773), ('work', 6727), ('mani', 6656), ('two', 6648), ('come', 6623)]\n"
          ],
          "name": "stdout"
        }
      ]
    },
    {
      "cell_type": "code",
      "metadata": {
        "id": "avZFeeP3cyfQ",
        "colab_type": "code",
        "outputId": "d0d46eb1-e863-4bb6-8f18-7916dc5c045a",
        "colab": {
          "base_uri": "https://localhost:8080/",
          "height": 55
        }
      },
      "source": [
        "data = '\\n'.join(tokens)\n",
        "# open file\n",
        "with open('/content/drive/My Drive/CS175/movie-review/movie_reviews/movie_reviews/vocab.txt', 'w+') as f:\n",
        "  # write text\n",
        "  f.write(data)\n",
        "\n",
        "imdbData = '\\n'.join(imdbTokens)\n",
        "with open('/content/drive/My Drive/CS175/movie-review/movie_reviews/movie_reviews/imdbvocab.txt', 'w+') as f:\n",
        "  # write text\n",
        "  f.write(imdbData)\n",
        "\n",
        "'''\n",
        "With this part of the code creating a vocab.txt file, we no longer need to run the block of code before \n",
        "to collect the vocabulary of all the txt files.\n",
        "This next part, we will compare the tokens with the positive and negative reviews\n",
        "and filter the vocab of those text with the vocab.txt we just created.\n",
        "'''\n"
      ],
      "execution_count": 0,
      "outputs": [
        {
          "output_type": "execute_result",
          "data": {
            "text/plain": [
              "'\\nWith this part of the code creating a vocab.txt file, we no longer need to run the block of code before \\nto collect the vocabulary of all the txt files.\\nThis next part, we will compare the tokens with the positive and negative reviews\\nand filter the vocab of those text with the vocab.txt we just created.\\n'"
            ]
          },
          "metadata": {
            "tags": []
          },
          "execution_count": 44
        }
      ]
    },
    {
      "cell_type": "markdown",
      "metadata": {
        "id": "gZfe5Elfbtjq",
        "colab_type": "text"
      },
      "source": [
        "## TOKENIZE DATASET AND FILTER WITH VOCAB"
      ]
    },
    {
      "cell_type": "code",
      "metadata": {
        "id": "-CrrEj2sluJK",
        "colab_type": "code",
        "colab": {}
      },
      "source": [
        "# turn a doc into clean tokens\n",
        "def clean_txt_file(doc, vocab):\n",
        "\t# split into tokens by white space\n",
        "\ttokens = doc.split()\n",
        "\t# remove punctuation from each token\n",
        "\ttable = str.maketrans('', '', punctuation)\n",
        "\ttokens = [w.translate(table) for w in tokens]\n",
        "\t# filter out tokens not in vocab\n",
        "\ttokens = [w for w in tokens if w in vocab]\n",
        "\ttokens = ' '.join(tokens)\n",
        "\treturn tokens\n",
        "\n",
        "# load all files in a directory\n",
        "def process_txt_files(directory, vocab, is_train):\n",
        "\tdocuments = list()\n",
        "\t# walk through all files in the folder\n",
        "\tfor filename in listdir(directory):\n",
        "\t\t# skip any reviews in the test set\n",
        "\t\tif is_train and filename.startswith('cv9'):\n",
        "\t\t\tcontinue\n",
        "\t\tif not is_train and not filename.startswith('cv9'):\n",
        "\t\t\tcontinue\n",
        "\t\t# create the full path of the file to open\n",
        "\t\tpath = directory + '/' + filename\n",
        "\t\t# load the doc\n",
        "\t\tdoc = ReadFile(path)\n",
        "\t\t# clean doc\n",
        "\t\ttokens = clean_txt_file(doc, vocab)\n",
        "\t\t# add to list\n",
        "\t\tdocuments.append(tokens)\n",
        "\treturn documents"
      ],
      "execution_count": 0,
      "outputs": []
    },
    {
      "cell_type": "code",
      "metadata": {
        "id": "1wQ930uXl8yT",
        "colab_type": "code",
        "colab": {}
      },
      "source": [
        "\n",
        "'''\n",
        "This block of code takes the positive and negative review text files and filters out\n",
        "the words that are not in the vocab.txt file\n",
        "'''\n",
        "\n",
        "with open('/content/drive/My Drive/CS175/movie-review/movie_reviews/movie_reviews/vocab.txt', 'r') as f:\n",
        "  vocab_file = f.read()\n",
        "  vocab = vocab_file.split()\n",
        "  vocab = set(vocab)\n",
        "with open('/content/drive/My Drive/CS175/movie-review/movie_reviews/movie_reviews/imdbvocab.txt', 'r') as f:\n",
        "  imdbVocab_file = f.read()\n",
        "  imdbVocab = imdbVocab_file.split()\n",
        "  imdbVocab = set(imdbVocab)\n",
        "\n",
        "\n",
        "neg_directory = '/content/drive/My Drive/CS175/movie-review/movie_reviews/movie_reviews/neg'\n",
        "pos_directory = '/content/drive/My Drive/CS175/movie-review/movie_reviews/movie_reviews/pos'\n",
        "# load all training reviews\n",
        "positive_docs = process_txt_files(pos_directory, vocab, True)\n",
        "negative_docs = process_txt_files(neg_directory, vocab, True)\n",
        "\n",
        "imdb_docs = list()\n",
        "imdb_train_labels = list()\n",
        "for review in imdb_train:\n",
        "  tokens = clean_txt_file(review['text'].numpy().decode('utf-8'), imdbVocab)\n",
        "  imdb_docs.append(tokens)\n",
        "  imdb_train_labels.append(review['label'].numpy())\n",
        "imdb_train_labels = array(imdb_train_labels)\n",
        "\n",
        "train_docs = negative_docs + positive_docs\n",
        "# train_docs is the list of vocab words we use to train our model"
      ],
      "execution_count": 0,
      "outputs": []
    },
    {
      "cell_type": "markdown",
      "metadata": {
        "id": "8wnEAhMInTtn",
        "colab_type": "text"
      },
      "source": [
        "We can now train a model using the positive and negative words acquired from the review text files."
      ]
    },
    {
      "cell_type": "code",
      "metadata": {
        "id": "cU1Ihp5JEpkk",
        "colab_type": "code",
        "colab": {}
      },
      "source": [
        "tokenizer = Tokenizer()\n",
        "\n",
        "tokenizer.fit_on_texts(train_docs)\n",
        "\n",
        "IMDBTokenizer = Tokenizer()\n",
        "\n",
        "IMDBTokenizer.fit_on_texts(imdb_docs)"
      ],
      "execution_count": 0,
      "outputs": []
    },
    {
      "cell_type": "code",
      "metadata": {
        "id": "Lbv_6O0iz-AX",
        "colab_type": "code",
        "colab": {}
      },
      "source": [
        "# sequence encode\n",
        "encoded_docs_train = tokenizer.texts_to_sequences(train_docs)\n",
        "imdb_encoded_train = IMDBTokenizer.texts_to_sequences(imdb_docs)\n",
        "\n",
        "# pad sequences\n",
        "max_length = max([len(s.split()) for s in train_docs])\n",
        "Xtrain = pad_sequences(encoded_docs_train, maxlen=max_length, padding='post')\n",
        "ytrain = array([0 for i in range(900)] + [1 for i in range(900)])\n",
        "\n",
        "# pad sequences IMDB\n",
        "imdb_max_length = max([len(s.split()) for s in imdb_docs])\n",
        "imdbXtrain = pad_sequences(imdb_encoded_train, maxlen=imdb_max_length, padding='post')\n",
        "\n",
        "# load all test reviews\n",
        "positive_lines = process_txt_files(pos_directory, vocab, False)\n",
        "negative_lines = process_txt_files(neg_directory, vocab, False)\n",
        "\n",
        "imdb_test = tfds.load(name=\"imdb_reviews\", split=\"test\")\n",
        "imdb_test = imdb_test.shuffle(1024).prefetch(tf.data.experimental.AUTOTUNE)\n",
        "\n",
        "imdb_testdocs = list()\n",
        "imdb_test_labels = list()\n",
        "for review in imdb_test:\n",
        "  tokens = clean_txt_file(review['text'].numpy().decode('utf-8'), imdbVocab)\n",
        "  imdb_testdocs.append(tokens)\n",
        "  imdb_test_labels.append(review['label'].numpy())\n",
        "imdb_test_labels = array(imdb_test_labels)\n",
        "\n",
        "test_docs = negative_lines + positive_lines\n",
        "\n",
        "encoded_docs_test = tokenizer.texts_to_sequences(test_docs)\n",
        "# pad sequences\n",
        "Xtest = pad_sequences(encoded_docs_test, maxlen=max_length, padding='post')\n",
        "ytest = array([0 for i in range(100)] + [1 for i in range(100)])\n",
        "\n",
        "# define vocabulary size (largest integer value)\n",
        "vocab_size = len(tokenizer.word_index) + 1\n",
        "\n",
        "#IMDB\n",
        "imdb_encoded_docs_test = IMDBTokenizer.texts_to_sequences(imdb_testdocs)\n",
        "# pad sequences\n",
        "imdbXtest = pad_sequences(imdb_encoded_docs_test, maxlen=imdb_max_length, padding='post')\n",
        "\n",
        "\n",
        "# define vocabulary size (largest integer value)\n",
        "imdb_vocab_size = len(IMDBTokenizer.word_index) + 1"
      ],
      "execution_count": 0,
      "outputs": []
    },
    {
      "cell_type": "code",
      "metadata": {
        "id": "jSDuFFH9i0vX",
        "colab_type": "code",
        "colab": {}
      },
      "source": [
        "RNNModel = None\n",
        "RNNModelimdb = None"
      ],
      "execution_count": 0,
      "outputs": []
    },
    {
      "cell_type": "markdown",
      "metadata": {
        "id": "QhGSStXWZpUR",
        "colab_type": "text"
      },
      "source": [
        "After cleaning our tokens, we now create our neural networks to train and test on."
      ]
    },
    {
      "cell_type": "markdown",
      "metadata": {
        "id": "YEiNqTlHZ9qq",
        "colab_type": "text"
      },
      "source": [
        "## NEURAL NETWORKS"
      ]
    },
    {
      "cell_type": "code",
      "metadata": {
        "id": "WLIaMd5cu-D0",
        "colab_type": "code",
        "outputId": "2662dbbb-f96e-4365-9826-40abdbe637e1",
        "colab": {
          "base_uri": "https://localhost:8080/",
          "height": 798
        }
      },
      "source": [
        "'''\n",
        "Create the CNN model\n",
        "'''\n",
        "CNNmodel = tf.keras.Sequential()\n",
        "CNNmodel.add(Embedding(input_dim=vocab_size, output_dim=100, input_length=max_length))\n",
        "#model.add(Dropout(0.2))\n",
        "CNNmodel.add(Conv1D(filters=32, kernel_size=8, activation='relu'))\n",
        "CNNmodel.add(MaxPooling1D(pool_size=3))\n",
        "CNNmodel.add(Flatten())\n",
        "CNNmodel.add(Dense(15, activation='relu')) # can increase the amount of units\n",
        "CNNmodel.add(Dense(1, activation='sigmoid'))\n",
        "print(CNNmodel.summary())\n",
        "\n",
        "# compile network\n",
        "CNNmodel.compile(loss='binary_crossentropy', optimizer='adam', metrics=['accuracy'])\n",
        "# fit network\n",
        "CNNmodel.fit(Xtrain, ytrain, epochs=10, verbose=2)"
      ],
      "execution_count": 0,
      "outputs": [
        {
          "output_type": "stream",
          "text": [
            "Model: \"sequential_7\"\n",
            "_________________________________________________________________\n",
            "Layer (type)                 Output Shape              Param #   \n",
            "=================================================================\n",
            "embedding_7 (Embedding)      (None, 942, 100)          1060800   \n",
            "_________________________________________________________________\n",
            "conv1d_7 (Conv1D)            (None, 935, 32)           25632     \n",
            "_________________________________________________________________\n",
            "max_pooling1d_7 (MaxPooling1 (None, 311, 32)           0         \n",
            "_________________________________________________________________\n",
            "flatten_7 (Flatten)          (None, 9952)              0         \n",
            "_________________________________________________________________\n",
            "dense_7 (Dense)              (None, 15)                149295    \n",
            "_________________________________________________________________\n",
            "dense_8 (Dense)              (None, 1)                 16        \n",
            "=================================================================\n",
            "Total params: 1,235,743\n",
            "Trainable params: 1,235,743\n",
            "Non-trainable params: 0\n",
            "_________________________________________________________________\n",
            "None\n",
            "Train on 1800 samples\n",
            "Epoch 1/10\n",
            "1800/1800 - 9s - loss: 0.6894 - accuracy: 0.5289\n",
            "Epoch 2/10\n",
            "1800/1800 - 1s - loss: 0.6222 - accuracy: 0.6600\n",
            "Epoch 3/10\n",
            "1800/1800 - 1s - loss: 0.2847 - accuracy: 0.8967\n",
            "Epoch 4/10\n",
            "1800/1800 - 1s - loss: 0.0503 - accuracy: 0.9922\n",
            "Epoch 5/10\n",
            "1800/1800 - 1s - loss: 0.0089 - accuracy: 0.9994\n",
            "Epoch 6/10\n",
            "1800/1800 - 1s - loss: 0.0033 - accuracy: 1.0000\n",
            "Epoch 7/10\n",
            "1800/1800 - 1s - loss: 0.0017 - accuracy: 1.0000\n",
            "Epoch 8/10\n",
            "1800/1800 - 1s - loss: 0.0011 - accuracy: 1.0000\n",
            "Epoch 9/10\n",
            "1800/1800 - 1s - loss: 7.7655e-04 - accuracy: 1.0000\n",
            "Epoch 10/10\n",
            "1800/1800 - 1s - loss: 5.7451e-04 - accuracy: 1.0000\n"
          ],
          "name": "stdout"
        },
        {
          "output_type": "execute_result",
          "data": {
            "text/plain": [
              "<tensorflow.python.keras.callbacks.History at 0x7fd6d71f2c18>"
            ]
          },
          "metadata": {
            "tags": []
          },
          "execution_count": 49
        }
      ]
    },
    {
      "cell_type": "code",
      "metadata": {
        "id": "t_FPEDfAcrA3",
        "colab_type": "code",
        "outputId": "2fa95320-feda-4dee-ea63-cd4c6f27c55d",
        "colab": {
          "base_uri": "https://localhost:8080/",
          "height": 798
        }
      },
      "source": [
        "CNNmodelimdb = tf.keras.Sequential()\n",
        "CNNmodelimdb.add(Embedding(input_dim=imdb_vocab_size, output_dim=100, input_length=imdb_max_length))\n",
        "#model.add(Dropout(0.2))\n",
        "CNNmodelimdb.add(Conv1D(filters=32, kernel_size=8, activation='relu'))\n",
        "CNNmodelimdb.add(MaxPooling1D(pool_size=3))\n",
        "CNNmodelimdb.add(Flatten())\n",
        "CNNmodelimdb.add(Dense(15, activation='relu')) # can increase the amount of units\n",
        "CNNmodelimdb.add(Dense(1, activation='sigmoid'))\n",
        "print(CNNmodelimdb.summary())\n",
        "\n",
        "# compile network\n",
        "CNNmodelimdb.compile(loss='binary_crossentropy', optimizer='adam', metrics=['accuracy'])\n",
        "# fit network\n",
        "CNNmodelimdb.fit(imdbXtrain, imdb_train_labels, epochs=10, verbose=2)"
      ],
      "execution_count": 0,
      "outputs": [
        {
          "output_type": "stream",
          "text": [
            "Model: \"sequential_8\"\n",
            "_________________________________________________________________\n",
            "Layer (type)                 Output Shape              Param #   \n",
            "=================================================================\n",
            "embedding_8 (Embedding)      (None, 1347, 100)         1681700   \n",
            "_________________________________________________________________\n",
            "conv1d_8 (Conv1D)            (None, 1340, 32)          25632     \n",
            "_________________________________________________________________\n",
            "max_pooling1d_8 (MaxPooling1 (None, 446, 32)           0         \n",
            "_________________________________________________________________\n",
            "flatten_8 (Flatten)          (None, 14272)             0         \n",
            "_________________________________________________________________\n",
            "dense_9 (Dense)              (None, 15)                214095    \n",
            "_________________________________________________________________\n",
            "dense_10 (Dense)             (None, 1)                 16        \n",
            "=================================================================\n",
            "Total params: 1,921,443\n",
            "Trainable params: 1,921,443\n",
            "Non-trainable params: 0\n",
            "_________________________________________________________________\n",
            "None\n",
            "Train on 25000 samples\n",
            "Epoch 1/10\n",
            "25000/25000 - 20s - loss: 0.4625 - accuracy: 0.7659\n",
            "Epoch 2/10\n",
            "25000/25000 - 20s - loss: 0.2918 - accuracy: 0.8774\n",
            "Epoch 3/10\n",
            "25000/25000 - 20s - loss: 0.2008 - accuracy: 0.9219\n",
            "Epoch 4/10\n",
            "25000/25000 - 19s - loss: 0.1063 - accuracy: 0.9627\n",
            "Epoch 5/10\n",
            "25000/25000 - 19s - loss: 0.0378 - accuracy: 0.9898\n",
            "Epoch 6/10\n",
            "25000/25000 - 20s - loss: 0.0133 - accuracy: 0.9968\n",
            "Epoch 7/10\n",
            "25000/25000 - 20s - loss: 0.0071 - accuracy: 0.9981\n",
            "Epoch 8/10\n",
            "25000/25000 - 19s - loss: 0.0167 - accuracy: 0.9947\n",
            "Epoch 9/10\n",
            "25000/25000 - 20s - loss: 0.0129 - accuracy: 0.9959\n",
            "Epoch 10/10\n",
            "25000/25000 - 20s - loss: 0.0026 - accuracy: 0.9994\n"
          ],
          "name": "stdout"
        },
        {
          "output_type": "execute_result",
          "data": {
            "text/plain": [
              "<tensorflow.python.keras.callbacks.History at 0x7fd6d727cc88>"
            ]
          },
          "metadata": {
            "tags": []
          },
          "execution_count": 50
        }
      ]
    },
    {
      "cell_type": "code",
      "metadata": {
        "id": "HDHlt_H0FQoi",
        "colab_type": "code",
        "outputId": "1b5e1df9-1e4a-497a-a1e7-80c1d03781c1",
        "colab": {
          "base_uri": "https://localhost:8080/",
          "height": 1000
        }
      },
      "source": [
        "\"\"\"\n",
        "GloVe embedding (pre-trained word embedding)\n",
        "\"\"\"\n",
        "\n",
        "#load embedding into memory\n",
        "embedding_indexes = dict()\n",
        "f = open('/content/drive/My Drive/CS175/movie-review/glove_embeddings/glove.6B.100d.txt')\n",
        "for l in f:\n",
        "  v = l.split()\n",
        "  c = asarray(v[1:], dtype='float32')\n",
        "  embedding_indexes[v[0]] = c\n",
        "f.close()\n",
        "print('Loaded %s word vectors.' % len(embedding_indexes))\n",
        "\n",
        "#create weight matrix\n",
        "\n",
        "embedding_matrix = zeros((vocab_size, 100))\n",
        "for w, i in tokenizer.word_index.items():\n",
        "  vector = embedding_indexes.get(w)\n",
        "  if vector is not None:\n",
        "    embedding_matrix[i] = vector\n",
        "\n",
        "#define model\n",
        "GloveModel = tf.keras.Sequential()\n",
        "GloveModel.add(Embedding(vocab_size, output_dim=100, weights=[embedding_matrix], input_length=max_length, trainable=False))\n",
        "GloveModel.add(Flatten())\n",
        "GloveModel.add(Dense(15, activation='relu'))\n",
        "GloveModel.add(Dense(1, activation='sigmoid'))\n",
        "GloveModel.compile(loss='binary_crossentropy', optimizer='adam', metrics=['accuracy'])\n",
        "print(GloveModel.summary())\n",
        "\n",
        "# fit model\n",
        "GloveModel.fit(Xtrain, ytrain, epochs=10, verbose=2)"
      ],
      "execution_count": 0,
      "outputs": [
        {
          "output_type": "stream",
          "text": [
            "Loaded 400000 word vectors.\n",
            "Model: \"sequential_9\"\n",
            "_________________________________________________________________\n",
            "Layer (type)                 Output Shape              Param #   \n",
            "=================================================================\n",
            "embedding_9 (Embedding)      (None, 942, 100)          1060800   \n",
            "_________________________________________________________________\n",
            "flatten_9 (Flatten)          (None, 94200)             0         \n",
            "_________________________________________________________________\n",
            "dense_11 (Dense)             (None, 15)                1413015   \n",
            "_________________________________________________________________\n",
            "dense_12 (Dense)             (None, 1)                 16        \n",
            "=================================================================\n",
            "Total params: 2,473,831\n",
            "Trainable params: 1,413,031\n",
            "Non-trainable params: 1,060,800\n",
            "_________________________________________________________________\n",
            "None\n",
            "Train on 1800 samples\n",
            "Epoch 1/10\n",
            "1800/1800 - 1s - loss: 0.7333 - accuracy: 0.5172\n",
            "Epoch 2/10\n",
            "1800/1800 - 0s - loss: 0.6189 - accuracy: 0.6372\n",
            "Epoch 3/10\n",
            "1800/1800 - 0s - loss: 0.3803 - accuracy: 0.8489\n",
            "Epoch 4/10\n",
            "1800/1800 - 0s - loss: 0.1608 - accuracy: 0.9817\n",
            "Epoch 5/10\n",
            "1800/1800 - 0s - loss: 0.0804 - accuracy: 0.9950\n",
            "Epoch 6/10\n",
            "1800/1800 - 0s - loss: 0.0487 - accuracy: 0.9989\n",
            "Epoch 7/10\n",
            "1800/1800 - 0s - loss: 0.0307 - accuracy: 0.9994\n",
            "Epoch 8/10\n",
            "1800/1800 - 0s - loss: 0.0202 - accuracy: 0.9994\n",
            "Epoch 9/10\n",
            "1800/1800 - 0s - loss: 0.0150 - accuracy: 1.0000\n",
            "Epoch 10/10\n",
            "1800/1800 - 0s - loss: 0.0113 - accuracy: 0.9994\n"
          ],
          "name": "stdout"
        },
        {
          "output_type": "execute_result",
          "data": {
            "text/plain": [
              "<tensorflow.python.keras.callbacks.History at 0x7fd6aa07e1d0>"
            ]
          },
          "metadata": {
            "tags": []
          },
          "execution_count": 52
        },
        {
          "output_type": "stream",
          "text": [
            "Loaded 400000 word vectors.\n",
            "Model: \"sequential_10\"\n",
            "_________________________________________________________________\n",
            "Layer (type)                 Output Shape              Param #   \n",
            "=================================================================\n",
            "embedding_10 (Embedding)     (None, 942, 100)          1060800   \n",
            "_________________________________________________________________\n",
            "flatten_10 (Flatten)         (None, 94200)             0         \n",
            "_________________________________________________________________\n",
            "dense_13 (Dense)             (None, 15)                1413015   \n",
            "_________________________________________________________________\n",
            "dense_14 (Dense)             (None, 1)                 16        \n",
            "=================================================================\n",
            "Total params: 2,473,831\n",
            "Trainable params: 1,413,031\n",
            "Non-trainable params: 1,060,800\n",
            "_________________________________________________________________\n",
            "None\n",
            "Train on 1800 samples\n",
            "Epoch 1/10\n",
            "1800/1800 - 1s - loss: 0.7118 - accuracy: 0.5072\n",
            "Epoch 2/10\n",
            "1800/1800 - 0s - loss: 0.6812 - accuracy: 0.4978\n",
            "Epoch 3/10\n",
            "1800/1800 - 0s - loss: 0.6299 - accuracy: 0.6217\n",
            "Epoch 4/10\n",
            "1800/1800 - 0s - loss: 0.5415 - accuracy: 0.6822\n",
            "Epoch 5/10\n",
            "1800/1800 - 0s - loss: 0.2786 - accuracy: 0.9000\n",
            "Epoch 6/10\n",
            "1800/1800 - 0s - loss: 0.1310 - accuracy: 0.9739\n",
            "Epoch 7/10\n",
            "1800/1800 - 0s - loss: 0.0523 - accuracy: 0.9883\n",
            "Epoch 8/10\n",
            "1800/1800 - 0s - loss: 0.0188 - accuracy: 0.9994\n",
            "Epoch 9/10\n",
            "1800/1800 - 0s - loss: 0.0126 - accuracy: 1.0000\n",
            "Epoch 10/10\n",
            "1800/1800 - 0s - loss: 0.0088 - accuracy: 1.0000\n"
          ],
          "name": "stdout"
        },
        {
          "output_type": "execute_result",
          "data": {
            "text/plain": [
              "<tensorflow.python.keras.callbacks.History at 0x7fd6a8717160>"
            ]
          },
          "metadata": {
            "tags": []
          },
          "execution_count": 53
        }
      ]
    },
    {
      "cell_type": "code",
      "metadata": {
        "id": "sqmxe-ySpw-Q",
        "colab_type": "code",
        "outputId": "51be704a-2bf1-4205-d743-c343cd7e1eda",
        "colab": {
          "base_uri": "https://localhost:8080/",
          "height": 726
        }
      },
      "source": [
        "#create weight matrix\n",
        "\n",
        "embedding_matrix_imdb = zeros((imdb_vocab_size, 100))\n",
        "for w, i in IMDBTokenizer.word_index.items():\n",
        "  vector = embedding_indexes.get(w)\n",
        "  if vector is not None:\n",
        "    embedding_matrix_imdb[i] = vector\n",
        "\n",
        "#define model\n",
        "GloveModelimdb = tf.keras.Sequential()\n",
        "GloveModelimdb.add(Embedding(imdb_vocab_size, output_dim=100, weights=[embedding_matrix_imdb], input_length=imdb_max_length, trainable=False))\n",
        "GloveModelimdb.add(Flatten())\n",
        "GloveModelimdb.add(Dense(15, activation='relu'))\n",
        "GloveModelimdb.add(Dense(1, activation='sigmoid'))\n",
        "GloveModelimdb.compile(loss='binary_crossentropy', optimizer='adam', metrics=['accuracy'])\n",
        "print(GloveModelimdb.summary())\n",
        "\n",
        "# fit model\n",
        "GloveModelimdb.fit(imdbXtrain, imdb_train_labels, epochs=10, verbose=2)\n"
      ],
      "execution_count": 0,
      "outputs": [
        {
          "output_type": "stream",
          "text": [
            "Model: \"sequential_11\"\n",
            "_________________________________________________________________\n",
            "Layer (type)                 Output Shape              Param #   \n",
            "=================================================================\n",
            "embedding_11 (Embedding)     (None, 1347, 100)         1681700   \n",
            "_________________________________________________________________\n",
            "flatten_11 (Flatten)         (None, 134700)            0         \n",
            "_________________________________________________________________\n",
            "dense_15 (Dense)             (None, 15)                2020515   \n",
            "_________________________________________________________________\n",
            "dense_16 (Dense)             (None, 1)                 16        \n",
            "=================================================================\n",
            "Total params: 3,702,231\n",
            "Trainable params: 2,020,531\n",
            "Non-trainable params: 1,681,700\n",
            "_________________________________________________________________\n",
            "None\n",
            "Train on 25000 samples\n",
            "Epoch 1/10\n",
            "25000/25000 - 5s - loss: 0.6959 - accuracy: 0.4972\n",
            "Epoch 2/10\n",
            "25000/25000 - 4s - loss: 0.6932 - accuracy: 0.4988\n",
            "Epoch 3/10\n",
            "25000/25000 - 4s - loss: 0.6932 - accuracy: 0.4965\n",
            "Epoch 4/10\n",
            "25000/25000 - 4s - loss: 0.6931 - accuracy: 0.5012\n",
            "Epoch 5/10\n",
            "25000/25000 - 4s - loss: 0.6931 - accuracy: 0.4972\n",
            "Epoch 6/10\n",
            "25000/25000 - 4s - loss: 0.6931 - accuracy: 0.4988\n",
            "Epoch 7/10\n",
            "25000/25000 - 4s - loss: 0.6928 - accuracy: 0.4998\n",
            "Epoch 8/10\n",
            "25000/25000 - 4s - loss: 0.6925 - accuracy: 0.4982\n",
            "Epoch 9/10\n",
            "25000/25000 - 4s - loss: 0.6919 - accuracy: 0.5034\n",
            "Epoch 10/10\n",
            "25000/25000 - 4s - loss: 0.6903 - accuracy: 0.5124\n"
          ],
          "name": "stdout"
        },
        {
          "output_type": "execute_result",
          "data": {
            "text/plain": [
              "<tensorflow.python.keras.callbacks.History at 0x7fd6a85eb2b0>"
            ]
          },
          "metadata": {
            "tags": []
          },
          "execution_count": 54
        }
      ]
    },
    {
      "cell_type": "code",
      "metadata": {
        "id": "l8EOoEk76k1a",
        "colab_type": "code",
        "outputId": "38802a6f-5321-449b-e24e-b55ba8bf1960",
        "colab": {
          "base_uri": "https://localhost:8080/",
          "height": 798
        }
      },
      "source": [
        "# https://www.tensorflow.org/tutorials/text/text_classification_rnn\n",
        "\n",
        "RNNModel = tf.keras.Sequential([\n",
        "    tf.keras.layers.Embedding(input_dim=imdb_vocab_size, output_dim=100, input_length=max_length),\n",
        "    tf.keras.layers.Bidirectional(tf.keras.layers.LSTM(64,  return_sequences=True)),\n",
        "    tf.keras.layers.Bidirectional(tf.keras.layers.LSTM(32)),\n",
        "    tf.keras.layers.Dense(64, activation='relu'),\n",
        "    tf.keras.layers.Dropout(0.5),\n",
        "    tf.keras.layers.Dense(1)\n",
        "])\n",
        "\n",
        "\n",
        "RNNModel.compile(loss=tf.keras.losses.BinaryCrossentropy(from_logits=True),\n",
        "              optimizer=tf.keras.optimizers.Adam(1e-4),\n",
        "              metrics=['accuracy'])\n",
        "\n",
        "print(RNNModel.summary())\n",
        "\n",
        "# history = RNNModel.fit(Xtrain, epochs=10,\n",
        "#                     validation_data=ytrain,\n",
        "#                     validation_steps=30)\n",
        "\n",
        "RNNModel.fit(Xtrain, ytrain, epochs=10, verbose=2)"
      ],
      "execution_count": 0,
      "outputs": [
        {
          "output_type": "stream",
          "text": [
            "Model: \"sequential_12\"\n",
            "_________________________________________________________________\n",
            "Layer (type)                 Output Shape              Param #   \n",
            "=================================================================\n",
            "embedding_12 (Embedding)     (None, 942, 100)          1681700   \n",
            "_________________________________________________________________\n",
            "bidirectional (Bidirectional (None, 942, 128)          84480     \n",
            "_________________________________________________________________\n",
            "bidirectional_1 (Bidirection (None, 64)                41216     \n",
            "_________________________________________________________________\n",
            "dense_17 (Dense)             (None, 64)                4160      \n",
            "_________________________________________________________________\n",
            "dropout (Dropout)            (None, 64)                0         \n",
            "_________________________________________________________________\n",
            "dense_18 (Dense)             (None, 1)                 65        \n",
            "=================================================================\n",
            "Total params: 1,811,621\n",
            "Trainable params: 1,811,621\n",
            "Non-trainable params: 0\n",
            "_________________________________________________________________\n",
            "None\n",
            "Train on 1800 samples\n",
            "Epoch 1/10\n",
            "1800/1800 - 11s - loss: 0.6930 - accuracy: 0.5000\n",
            "Epoch 2/10\n",
            "1800/1800 - 7s - loss: 0.6926 - accuracy: 0.5000\n",
            "Epoch 3/10\n",
            "1800/1800 - 7s - loss: 0.6919 - accuracy: 0.5000\n",
            "Epoch 4/10\n",
            "1800/1800 - 7s - loss: 0.6876 - accuracy: 0.5000\n",
            "Epoch 5/10\n",
            "1800/1800 - 7s - loss: 0.6205 - accuracy: 0.5756\n",
            "Epoch 6/10\n",
            "1800/1800 - 7s - loss: 0.3734 - accuracy: 0.8378\n",
            "Epoch 7/10\n",
            "1800/1800 - 7s - loss: 0.2098 - accuracy: 0.9317\n",
            "Epoch 8/10\n",
            "1800/1800 - 7s - loss: 0.1027 - accuracy: 0.9739\n",
            "Epoch 9/10\n",
            "1800/1800 - 7s - loss: 0.0534 - accuracy: 0.9889\n",
            "Epoch 10/10\n",
            "1800/1800 - 7s - loss: 0.0415 - accuracy: 0.9944\n"
          ],
          "name": "stdout"
        },
        {
          "output_type": "execute_result",
          "data": {
            "text/plain": [
              "<tensorflow.python.keras.callbacks.History at 0x7fd6d75234a8>"
            ]
          },
          "metadata": {
            "tags": []
          },
          "execution_count": 55
        }
      ]
    },
    {
      "cell_type": "code",
      "metadata": {
        "id": "xyBLLAnuT1ap",
        "colab_type": "code",
        "outputId": "fbd3250a-87e3-45d2-f8cb-67b01e8452e0",
        "colab": {
          "base_uri": "https://localhost:8080/",
          "height": 780
        }
      },
      "source": [
        "RNNModelimdb = tf.keras.Sequential([\n",
        "    tf.keras.layers.Embedding(input_dim=imdb_vocab_size, output_dim=100, input_length=imdb_max_length),\n",
        "    tf.keras.layers.Bidirectional(tf.keras.layers.LSTM(64,  return_sequences=True)),\n",
        "    tf.keras.layers.Bidirectional(tf.keras.layers.LSTM(32)),\n",
        "    tf.keras.layers.Dense(64, activation='relu'),\n",
        "    tf.keras.layers.Dropout(0.5),\n",
        "    tf.keras.layers.Dense(1)\n",
        "])\n",
        "\n",
        "RNNModelimdb.compile(loss=tf.keras.losses.BinaryCrossentropy(from_logits=True),\n",
        "              optimizer=tf.keras.optimizers.Adam(1e-4),\n",
        "              metrics=['accuracy'])\n",
        "\n",
        "RNNModelimdb.summary()\n",
        "\n",
        "RNNModelimdb.fit(imdbXtrain, imdb_train_labels, epochs=10, verbose=2)"
      ],
      "execution_count": 0,
      "outputs": [
        {
          "output_type": "stream",
          "text": [
            "Model: \"sequential_13\"\n",
            "_________________________________________________________________\n",
            "Layer (type)                 Output Shape              Param #   \n",
            "=================================================================\n",
            "embedding_13 (Embedding)     (None, 1347, 100)         1681700   \n",
            "_________________________________________________________________\n",
            "bidirectional_2 (Bidirection (None, 1347, 128)         84480     \n",
            "_________________________________________________________________\n",
            "bidirectional_3 (Bidirection (None, 64)                41216     \n",
            "_________________________________________________________________\n",
            "dense_19 (Dense)             (None, 64)                4160      \n",
            "_________________________________________________________________\n",
            "dropout_1 (Dropout)          (None, 64)                0         \n",
            "_________________________________________________________________\n",
            "dense_20 (Dense)             (None, 1)                 65        \n",
            "=================================================================\n",
            "Total params: 1,811,621\n",
            "Trainable params: 1,811,621\n",
            "Non-trainable params: 0\n",
            "_________________________________________________________________\n",
            "Train on 25000 samples\n",
            "Epoch 1/10\n",
            "25000/25000 - 136s - loss: 0.5737 - accuracy: 0.6569\n",
            "Epoch 2/10\n",
            "25000/25000 - 130s - loss: 0.3821 - accuracy: 0.8398\n",
            "Epoch 3/10\n",
            "25000/25000 - 128s - loss: 0.3266 - accuracy: 0.8704\n",
            "Epoch 4/10\n",
            "25000/25000 - 130s - loss: 0.2832 - accuracy: 0.8926\n",
            "Epoch 5/10\n",
            "25000/25000 - 133s - loss: 0.2588 - accuracy: 0.9058\n",
            "Epoch 6/10\n",
            "25000/25000 - 133s - loss: 0.2263 - accuracy: 0.9192\n",
            "Epoch 7/10\n",
            "25000/25000 - 133s - loss: 0.2057 - accuracy: 0.9290\n",
            "Epoch 8/10\n",
            "25000/25000 - 133s - loss: 0.1845 - accuracy: 0.9382\n",
            "Epoch 9/10\n",
            "25000/25000 - 132s - loss: 0.1643 - accuracy: 0.9463\n",
            "Epoch 10/10\n",
            "25000/25000 - 132s - loss: 0.1516 - accuracy: 0.9507\n"
          ],
          "name": "stdout"
        },
        {
          "output_type": "execute_result",
          "data": {
            "text/plain": [
              "<tensorflow.python.keras.callbacks.History at 0x7fd69924fd30>"
            ]
          },
          "metadata": {
            "tags": []
          },
          "execution_count": 56
        }
      ]
    },
    {
      "cell_type": "markdown",
      "metadata": {
        "id": "8zHvBcjsZE2h",
        "colab_type": "text"
      },
      "source": [
        "Saving our RNNs for use later because it takes a while to train, so we don't want to keep re-training."
      ]
    },
    {
      "cell_type": "code",
      "metadata": {
        "id": "6CqckpN6p0bd",
        "colab_type": "code",
        "colab": {}
      },
      "source": [
        "RNNModel.save('/content/drive/My Drive/CS175/RNNmodel.h5')\n",
        "RNNModelimdb.save('/content/drive/My Drive/CS175/RNNmodelimdb.h5')"
      ],
      "execution_count": 0,
      "outputs": []
    },
    {
      "cell_type": "code",
      "metadata": {
        "id": "vibF2jDibERr",
        "colab_type": "code",
        "colab": {}
      },
      "source": [
        "if RNNModel == None:\n",
        "  RNNModel = load_model('/content/drive/My Drive/CS175/RNNmodel.h5')\n",
        "if RNNModelimdb == None:\n",
        "  RNNModelimdb = load_model('/content/drive/My Drive/CS175/RNNmodelimdb.h5')"
      ],
      "execution_count": 0,
      "outputs": []
    },
    {
      "cell_type": "markdown",
      "metadata": {
        "id": "n4JxIqndfbUW",
        "colab_type": "text"
      },
      "source": [
        "## EVALUATE SCORES"
      ]
    },
    {
      "cell_type": "markdown",
      "metadata": {
        "id": "uRvMKvhcLgVw",
        "colab_type": "text"
      },
      "source": [
        "Here we use the accuracy function to determine how well each neural network does. The higher the accuracy, the better the performance."
      ]
    },
    {
      "cell_type": "code",
      "metadata": {
        "id": "OJXmRXlhJ_tx",
        "colab_type": "code",
        "outputId": "5097a9a5-3784-4032-984b-e14da1e15548",
        "colab": {
          "base_uri": "https://localhost:8080/",
          "height": 344
        }
      },
      "source": [
        "loss_cnnk, acc_cnnk = CNNmodel.evaluate(Xtest, ytest, verbose=0)\n",
        "acc_cnnk = round(acc_cnnk*100, 2)\n",
        "print('Test Loss CNN Kaggle: {}'.format(loss_cnnk))\n",
        "print('Test Accuracy CNN Kaggle: {}%'.format(acc_cnnk))\n",
        "print()\n",
        "\n",
        "loss_cnnimdb, acc_cnnimdb = CNNmodelimdb.evaluate(imdbXtest, imdb_test_labels, verbose=0)\n",
        "acc_cnnimdb = round(acc_cnnimdb*100, 2)\n",
        "print('Test Loss CNN IMDB: {}'.format(loss_cnnimdb))\n",
        "print('Test Accuracy CNN IMDB: {}%'.format(acc_cnnimdb))\n",
        "print()\n",
        "\n",
        "loss_gk, acc_gk = GloveModel.evaluate(Xtest, ytest, verbose=0)\n",
        "acc_gk = round(acc_gk*100, 2)\n",
        "print('Test Loss GloVe Kaggle: {}'.format(loss_gk))\n",
        "print('Test Accuracy GloVe Kaggle: {}%'.format(acc_gk))\n",
        "print()\n",
        "\n",
        "loss_gimdb, acc_gimdb = GloveModelimdb.evaluate(imdbXtest, imdb_test_labels, verbose=0)\n",
        "acc_gimdb = round(acc_gimdb*100, 2)\n",
        "print('Test Loss GloVe IMDB: {}'.format(loss_gimdb))\n",
        "print('Test Accuracy GloVe IMDB: {}%'.format(acc_gimdb))\n",
        "print()\n",
        "\n",
        "loss_rnnk, acc_rnnk = RNNModel.evaluate(Xtest, ytest, verbose=0)\n",
        "acc_rnnk = round(acc_rnnk*100, 2)\n",
        "print('Test Loss RNN Kaggle: {}%'.format(loss_rnnk))\n",
        "print('Test Accuracy RNN Kaggle: {}%'.format(acc_rnnk))\n",
        "print()\n",
        "\n",
        "loss_rnnimdb, acc_rnnimdb = RNNModelimdb.evaluate(imdbXtest, imdb_test_labels, verbose=0)\n",
        "acc_rnnimdb = round(acc_rnnimdb*100, 2)\n",
        "print('Test Loss RNN IMDB: {}'.format(loss_rnnimdb))\n",
        "print('Test Accuracy RNN IMDB: {}%'.format(acc_rnnimdb))\n",
        "print()"
      ],
      "execution_count": 0,
      "outputs": [
        {
          "output_type": "stream",
          "text": [
            "Test Loss CNN Kaggle: 0.7431644535064698\n",
            "Test Accuracy CNN Kaggle: 78.5%\n",
            "\n",
            "Test Loss CNN IMDB: 1.3818824168777466\n",
            "Test Accuracy CNN IMDB: 80.98%\n",
            "\n",
            "Test Loss GloVe Kaggle: 1.0044598722457885\n",
            "Test Accuracy GloVe Kaggle: 56.5%\n",
            "\n",
            "Test Loss GloVe IMDB: 0.6905522338867187\n",
            "Test Accuracy GloVe IMDB: 51.59%\n",
            "\n",
            "Test Loss RNN Kaggle: 0.7675459694862365%\n",
            "Test Accuracy RNN Kaggle: 77.5%\n",
            "\n",
            "Test Loss RNN IMDB: 0.6009780989599228\n",
            "Test Accuracy RNN IMDB: 80.81%\n",
            "\n"
          ],
          "name": "stdout"
        }
      ]
    },
    {
      "cell_type": "markdown",
      "metadata": {
        "id": "Khgy3sasY2CK",
        "colab_type": "text"
      },
      "source": [
        "Here we test our RNN trained on the Kaggle dataset with the IMDB test set and \n",
        "test our RNN trained on IMDB dataset on the Kaggle test set."
      ]
    },
    {
      "cell_type": "code",
      "metadata": {
        "id": "yAuzThwHkSx5",
        "colab_type": "code",
        "colab": {}
      },
      "source": [
        "kaggle_test_list = pad_sequences(encoded_docs_test, maxlen=imdb_max_length, padding='post')\n",
        "kaggle_label_test = array([0 for i in range(100)] + [1 for i in range(100)])\n",
        "\n",
        "imdb_test_list = pad_sequences(imdb_encoded_docs_test, maxlen=max_length, padding='post', truncating='post')"
      ],
      "execution_count": 0,
      "outputs": []
    },
    {
      "cell_type": "code",
      "metadata": {
        "id": "nEqQy66soIEZ",
        "colab_type": "code",
        "outputId": "fcf92ac4-35df-4c7a-9398-b85dfda741cc",
        "colab": {
          "base_uri": "https://localhost:8080/",
          "height": 108
        }
      },
      "source": [
        "kag_test_loss, kag_test_acc = RNNModel.evaluate(imdb_test_list, imdb_test_labels, verbose = 0)\n",
        "kag_test_acc = round(kag_test_acc*100, 2)\n",
        "print('Test Loss RNN Kaggle on IMDB: {}'.format(kag_test_loss))\n",
        "print('Test Accuracy RNN Kaggle on IMDB: {}%'.format(kag_test_acc))\n",
        "print()\n",
        "\n",
        "imdb_test_loss, imdb_test_acc = RNNModelimdb.evaluate(kaggle_test_list, kaggle_label_test, verbose=0)\n",
        "imdb_test_acc = round(imdb_test_acc*100, 2)\n",
        "print('Test Loss RNN IMDB on Kaggle: {}'.format(imdb_test_loss))\n",
        "print('Test Accuracy RNN IMDB on Kaggle: {}%'.format(imdb_test_acc))"
      ],
      "execution_count": 0,
      "outputs": [
        {
          "output_type": "stream",
          "text": [
            "Test Loss RNN Kaggle on IMDB: 1.5687851857757569\n",
            "Test Accuracy RNN Kaggle on IMDB: 51.55%\n",
            "\n",
            "Test Loss RNN IMDB on Kaggle: 2.2632213592529298\n",
            "Test Accuracy RNN IMDB on Kaggle: 49.5%\n"
          ],
          "name": "stdout"
        }
      ]
    },
    {
      "cell_type": "code",
      "metadata": {
        "id": "r_gTRmQKIlor",
        "colab_type": "code",
        "outputId": "100a0b41-64ec-4102-cdf9-f269e6d52f42",
        "colab": {
          "base_uri": "https://localhost:8080/",
          "height": 297
        }
      },
      "source": [
        "labels = [\"CNN\", \"Neural Net with GloVe\", \"RNN LSTM\"]\n",
        "kaggle_data = [acc_cnnk, acc_gk, acc_rnnk]\n",
        "imdb_data = [acc_cnnimdb, acc_gimdb, acc_rnnimdb]\n",
        "\n",
        "x = np.arange(len(labels))\n",
        "width = 0.3\n",
        "\n",
        "fig, ax = plt.subplots()\n",
        "ax.set_ylim(0,110)\n",
        "#fig.set_figheight(7)\n",
        "#fig.set_figwidth(7)\n",
        "rects1 = ax.bar(x - width/2, kaggle_data, width, label='Kaggle_Dataset')\n",
        "rects2 = ax.bar(x + width/2, imdb_data, width, label='IMDB_dataset')\n",
        "\n",
        "ax.set_ylabel('Accuracy')\n",
        "ax.set_title('Movie Review Results')\n",
        "ax.set_xticks(x)\n",
        "ax.set_xticklabels(labels)\n",
        "ax.legend()\n",
        "\n",
        "def autolabel(rects):\n",
        "    \"\"\"Attach a text label above each bar in *rects*, displaying its height.\"\"\"\n",
        "    for rect in rects:\n",
        "        height = rect.get_height()\n",
        "        ax.annotate('{}'.format(height),\n",
        "                    xy=(rect.get_x() + rect.get_width() / 2, height),\n",
        "                    xytext=(0, 3),  # 3 points vertical offset\n",
        "                    textcoords=\"offset points\",\n",
        "                    ha='center', va='bottom')\n",
        "\n",
        "\n",
        "autolabel(rects1)\n",
        "autolabel(rects2)\n",
        "\n",
        "fig.tight_layout()\n",
        "\n",
        "plt.show()"
      ],
      "execution_count": 0,
      "outputs": [
        {
          "output_type": "display_data",
          "data": {
            "image/png": "[encoded data removed]",
            "text/plain": [
              "<Figure size 432x288 with 1 Axes>"
            ]
          },
          "metadata": {
            "tags": []
          }
        }
      ]
    },
    {
      "cell_type": "code",
      "metadata": {
        "id": "Wm0w8-EuJYUP",
        "colab_type": "code",
        "outputId": "bc2a62ba-2fec-4202-bd78-6a8409d2c0e2",
        "colab": {
          "base_uri": "https://localhost:8080/",
          "height": 281
        }
      },
      "source": [
        "x = [0,.6]\n",
        "y = [kag_test_acc, imdb_test_acc]\n",
        "labels = ['RNN trained on Kaggle Dataset', 'RNN trained on IMDB Dataset']\n",
        "\n",
        "fig, ax = plt.subplots()\n",
        "\n",
        "ax.set_ylim(0,100)\n",
        "ax.set_ylabel('Accuracy')\n",
        "ax.set_title('RNN trained on one dataset and tested on another')\n",
        "ax.set_xticks(x)\n",
        "ax.set_xticklabels(labels)\n",
        "\n",
        "rects = ax.bar(x, y, .5)\n",
        "\n",
        "autolabel(rects)\n",
        "plt.show()"
      ],
      "execution_count": 0,
      "outputs": [
        {
          "output_type": "display_data",
          "data": {
            "image/png": "[encoded data removed]",
            "text/plain": [
              "<Figure size 432x288 with 1 Axes>"
            ]
          },
          "metadata": {
            "tags": []
          }
        }
      ]
    }
  ]
}